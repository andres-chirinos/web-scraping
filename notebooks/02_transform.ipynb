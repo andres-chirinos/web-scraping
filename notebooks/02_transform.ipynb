{
 "cells": [
  {
   "cell_type": "code",
   "execution_count": null,
   "id": "57ff8254",
   "metadata": {},
   "outputs": [],
   "source": [
    "# Install dependencies\n",
    "%pip install --upgrade pip \n",
    "%pip install pandas"
   ]
  },
  {
   "cell_type": "code",
   "execution_count": null,
   "id": "3639ba22",
   "metadata": {},
   "outputs": [],
   "source": [
    "import pandas as pd\n",
    "\n",
    "# PARAMETERS\n",
    "input_file = 'data/raw-data.csv'"
   ]
  },
  {
   "cell_type": "code",
   "execution_count": null,
   "id": "4f2e938d",
   "metadata": {},
   "outputs": [],
   "source": [
    "# TRANSFORM\n",
    "print(f\"Transformando datos de {input_file}...\")\n",
    "df = pd.read_csv(input_file)\n",
    "\n",
    "df.columns = [col.strip().lower().replace(' ', '_') for col in df.columns]\n",
    "\n",
    "df = df.drop(columns=['id'], errors='ignore')\n",
    "\n",
    "df['precio'] = df['precio'].replace('[\\$,]', '', regex=True).astype(float)\n",
    "df['fecha'] = pd.to_datetime(df['fecha'])\n",
    "\n",
    "df.to_csv('data/clean-data.csv', index=False)\n",
    "print(\"Transformación terminada.\")"
   ]
  }
 ],
 "metadata": {
  "kernelspec": {
   "display_name": ".venv",
   "language": "python",
   "name": "python3"
  },
  "language_info": {
   "name": "python",
   "version": "3.10.12"
  }
 },
 "nbformat": 4,
 "nbformat_minor": 5
}
