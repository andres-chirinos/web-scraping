{
 "cells": [
  {
   "cell_type": "code",
   "execution_count": null,
   "id": "2820b868",
   "metadata": {},
   "outputs": [],
   "source": [
    "# Install dependencies\n",
    "%pip install --upgrade pip \n",
    "%pip install pandas"
   ]
  },
  {
   "cell_type": "code",
   "execution_count": null,
   "id": "25728719",
   "metadata": {},
   "outputs": [],
   "source": [
    "# Imports + configs\n",
    "import pandas as pd\n",
    "\n",
    "# PARAMETERS (para papermill)\n",
    "input_url = \"https://example.com/tabla-precios\""
   ]
  },
  {
   "cell_type": "code",
   "execution_count": null,
   "id": "9e757bf7",
   "metadata": {},
   "outputs": [],
   "source": [
    "# EXTRACT\n",
    "print(f\"Extrayendo datos de {input_url}...\")\n",
    "# tables = pd.read_html(input_url)\n",
    "# df = tables[0]\n",
    "\n",
    "# df.to_csv('data/raw-data.csv', index=False)\n",
    "\n",
    "# Creamos un dataset de prueba y lo guardamos\n",
    "df = pd.DataFrame(\n",
    "    {\n",
    "        \"id\": [1, 2, 3],\n",
    "        \"fecha\": [\"2023-01-01\", \"2023-01-02\", \"2023-01-03\"],\n",
    "        \"producto\": [\"Producto A\", \"Producto B\", \"Producto C\"],\n",
    "        \"precio\": [10.99, 20.00, 30.50],\n",
    "        \"cantidad\": [100, 150, 200],\n",
    "        \"descripcion\": [\"A\", \"B\", \"C\"],\n",
    "    }\n",
    ")\n",
    "\n",
    "df.to_csv(\"data/raw-data.csv\", index=False)\n",
    "print(\"Datos extraídos y guardados.\")"
   ]
  }
 ],
 "metadata": {
  "kernelspec": {
   "display_name": ".venv",
   "language": "python",
   "name": "python3"
  },
  "language_info": {
   "name": "python",
   "version": "3.10.12"
  }
 },
 "nbformat": 4,
 "nbformat_minor": 5
}
